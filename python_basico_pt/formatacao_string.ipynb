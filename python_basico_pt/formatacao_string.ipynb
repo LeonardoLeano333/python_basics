{
 "cells": [
  {
   "cell_type": "markdown",
   "metadata": {},
   "source": [
    "# Formatação de String"
   ]
  },
  {
   "cell_type": "markdown",
   "metadata": {},
   "source": [
    "Vamos aprender como fazer formatação de strings ao imprimir com a função <strong>print</strong>"
   ]
  },
  {
   "cell_type": "code",
   "execution_count": 1,
   "metadata": {},
   "outputs": [],
   "source": [
    "fruta = 'banana'\n",
    "objeto = 'porta'"
   ]
  },
  {
   "cell_type": "markdown",
   "metadata": {},
   "source": [
    "## Passando strings para uma nova variável"
   ]
  },
  {
   "cell_type": "markdown",
   "metadata": {},
   "source": [
    "O simbolo de <strong>\"%\"</strong> diz que o próximo caracter tem um significado de formatação do tipo de variavél a ser a dicionada na string esse formato é formato padrão em muitas outras linguagens, como C++ por exemplo."
   ]
  },
  {
   "cell_type": "code",
   "execution_count": 2,
   "metadata": {},
   "outputs": [
    {
     "name": "stdout",
     "output_type": "stream",
     "text": [
      "banana porta\n"
     ]
    }
   ],
   "source": [
    "nova_string = '%s %s' % (fruta,objeto)\n",
    "print(nova_string)"
   ]
  },
  {
   "cell_type": "markdown",
   "metadata": {},
   "source": [
    "No caso <strong>\"%s\"</strong> siginifica que vai ser passado o valor como string para a nova string. "
   ]
  },
  {
   "cell_type": "markdown",
   "metadata": {},
   "source": [
    "## Formatando inteiros"
   ]
  },
  {
   "cell_type": "markdown",
   "metadata": {},
   "source": [
    "%d"
   ]
  },
  {
   "cell_type": "code",
   "execution_count": 3,
   "metadata": {},
   "outputs": [
    {
     "name": "stdout",
     "output_type": "stream",
     "text": [
      "dados = 100000 ; 5\n"
     ]
    }
   ],
   "source": [
    "numero_a = 100000\n",
    "numero_b = 5\n",
    "dado_formatado = \"dados = %d ; %d\" %(numero_a,numero_b)\n",
    "print(dado_formatado)"
   ]
  },
  {
   "cell_type": "markdown",
   "metadata": {},
   "source": [
    "## Formatando float"
   ]
  },
  {
   "cell_type": "markdown",
   "metadata": {},
   "source": [
    "<strong>\n",
    "<p>%d = formatação de digitos\n",
    "<p>%f = formatação de float (mensagens minusculas)\n",
    "<p>%F = formatação de FLOAT (MENSGENS MAIUSCULAS)\n",
    "<p>%e = formatação de exponencial(científica)(mensagens minusculas)\n",
    "<p>%E = formatação de Exponencial(científica)(MENSGENS MAIUSCULAS)\n",
    "<p>%g = formatação generica(faz truncamento do valor)\n",
    "<p>%G = formatação generica(faz truncamento do valor)\n",
    "</strong>"
   ]
  },
  {
   "cell_type": "code",
   "execution_count": 4,
   "metadata": {},
   "outputs": [
    {
     "name": "stdout",
     "output_type": "stream",
     "text": [
      "dados = 100000 ; 5\n"
     ]
    }
   ],
   "source": [
    "numero_a = 100000.505\n",
    "numero_b = 5.\n",
    "dado_formatado = \"dados = %d ; %d\" %(numero_a,numero_b)\n",
    "print(dado_formatado)"
   ]
  },
  {
   "cell_type": "code",
   "execution_count": 5,
   "metadata": {},
   "outputs": [
    {
     "name": "stdout",
     "output_type": "stream",
     "text": [
      "dados = 100000.505000 ; 5.000000\n"
     ]
    }
   ],
   "source": [
    "numero_a = 100000.505\n",
    "numero_b = 5.\n",
    "dado_formatado = \"dados = %f ; %f\" %(numero_a,numero_b)\n",
    "print(dado_formatado)"
   ]
  },
  {
   "cell_type": "code",
   "execution_count": 6,
   "metadata": {},
   "outputs": [
    {
     "name": "stdout",
     "output_type": "stream",
     "text": [
      "dados = 100000.505000 ; 5.000000\n"
     ]
    }
   ],
   "source": [
    "numero_a = 100000.505\n",
    "numero_b = 5.\n",
    "dado_formatado = \"dados = %F ; %F\" %(numero_a,numero_b)\n",
    "print(dado_formatado)"
   ]
  },
  {
   "cell_type": "code",
   "execution_count": 7,
   "metadata": {},
   "outputs": [
    {
     "name": "stdout",
     "output_type": "stream",
     "text": [
      "dados = 1.000005e+05 ; 5.000000e+00\n"
     ]
    }
   ],
   "source": [
    "numero_a = 100000.505\n",
    "numero_b = 5.\n",
    "dado_formatado = \"dados = %e ; %e\" %(numero_a,numero_b)\n",
    "print(dado_formatado)"
   ]
  },
  {
   "cell_type": "code",
   "execution_count": 8,
   "metadata": {},
   "outputs": [
    {
     "name": "stdout",
     "output_type": "stream",
     "text": [
      "dados = 1.000005E+05 ; 5.000000E+00\n"
     ]
    }
   ],
   "source": [
    "numero_a = 100000.505\n",
    "numero_b = 5.\n",
    "dado_formatado = \"dados = %E ; %E\" %(numero_a,numero_b)\n",
    "print(dado_formatado)"
   ]
  },
  {
   "cell_type": "code",
   "execution_count": 9,
   "metadata": {},
   "outputs": [
    {
     "name": "stdout",
     "output_type": "stream",
     "text": [
      "dados = 100001 ; 5\n"
     ]
    }
   ],
   "source": [
    "numero_a = 100000.505\n",
    "numero_b = 5.\n",
    "dado_formatado = \"dados = %g ; %g\" %(numero_a,numero_b)\n",
    "print(dado_formatado)"
   ]
  },
  {
   "cell_type": "code",
   "execution_count": 10,
   "metadata": {},
   "outputs": [
    {
     "name": "stdout",
     "output_type": "stream",
     "text": [
      "dados = 100001 ; 5\n"
     ]
    }
   ],
   "source": [
    "numero_a = 100000.505\n",
    "numero_b = 5.\n",
    "dado_formatado = \"dados = %G ; %G\" %(numero_a,numero_b)\n",
    "print(dado_formatado)"
   ]
  },
  {
   "cell_type": "markdown",
   "metadata": {},
   "source": [
    "## Formatando o número de digitos"
   ]
  },
  {
   "cell_type": "markdown",
   "metadata": {},
   "source": [
    "Passando a formatação da string como \"%5.2s\" eu estou dizendo coloque 5 algarismos significativos antes da virgula, e me retorne 2 algarismos significativos depois da virgula, segue exemplos com %f e %e. "
   ]
  },
  {
   "cell_type": "code",
   "execution_count": 11,
   "metadata": {},
   "outputs": [
    {
     "name": "stdout",
     "output_type": "stream",
     "text": [
      "dados = 100000.51 ; 00005.000\n"
     ]
    }
   ],
   "source": [
    "numero_a = 100000.505\n",
    "numero_b = 5.\n",
    "dado_formatado = \"dados = %2.2f ; %09.3f\" %(numero_a,numero_b)\n",
    "print(dado_formatado)"
   ]
  },
  {
   "cell_type": "code",
   "execution_count": 12,
   "metadata": {
    "scrolled": true
   },
   "outputs": [
    {
     "name": "stdout",
     "output_type": "stream",
     "text": [
      "dados = 1.00e+05 ; 5.000e+00\n"
     ]
    }
   ],
   "source": [
    "numero_a = 100000.505\n",
    "numero_b = 5.\n",
    "dado_formatado = \"dados = %02.2e ; %.3e\" %(numero_a,numero_b)\n",
    "print(dado_formatado)"
   ]
  },
  {
   "cell_type": "markdown",
   "metadata": {},
   "source": [
    "## Simbolos expeciais"
   ]
  },
  {
   "cell_type": "markdown",
   "metadata": {},
   "source": [
    "simbolos escapados(<strong>\\</strong>):"
   ]
  },
  {
   "cell_type": "markdown",
   "metadata": {},
   "source": [
    "<p> \\n pulando linha\n",
    "<p> \\t adicionando uma tabulacao"
   ]
  },
  {
   "cell_type": "code",
   "execution_count": 13,
   "metadata": {},
   "outputs": [
    {
     "name": "stdout",
     "output_type": "stream",
     "text": [
      "pulando linha: \n",
      "\n",
      "\n",
      "depois de pular três linhas\n"
     ]
    }
   ],
   "source": [
    "print(\"pulando linha: \\n\\n\\ndepois de pular três linhas\")"
   ]
  },
  {
   "cell_type": "code",
   "execution_count": 14,
   "metadata": {
    "scrolled": true
   },
   "outputs": [
    {
     "name": "stdout",
     "output_type": "stream",
     "text": [
      "tabulando:\tespaco tabulado\n"
     ]
    }
   ],
   "source": [
    "print(\"tabulando:\\tespaco tabulado\")"
   ]
  },
  {
   "cell_type": "markdown",
   "metadata": {},
   "source": [
    "colocando %:"
   ]
  },
  {
   "cell_type": "code",
   "execution_count": 15,
   "metadata": {
    "scrolled": true
   },
   "outputs": [
    {
     "name": "stdout",
     "output_type": "stream",
     "text": [
      "%\n"
     ]
    }
   ],
   "source": [
    "print(\"%\")"
   ]
  },
  {
   "cell_type": "code",
   "execution_count": 16,
   "metadata": {},
   "outputs": [
    {
     "name": "stdout",
     "output_type": "stream",
     "text": [
      "palavra %\n"
     ]
    }
   ],
   "source": [
    "palavra =\"palavra\"\n",
    "print(\"%s %%\"% palavra)"
   ]
  },
  {
   "cell_type": "markdown",
   "metadata": {},
   "source": [
    "Nesse caso precisa-se adicionar duas porcentagens %% para mostrar o caracter expecial de %. "
   ]
  },
  {
   "cell_type": "markdown",
   "metadata": {},
   "source": [
    "### Referências"
   ]
  },
  {
   "cell_type": "markdown",
   "metadata": {},
   "source": [
    "<strong>inglês</strong>\n",
    "<p> <a href = https://pyformat.info/>\n",
    "    https://pyformat.info/\n",
    "</a>\n",
    "<p> <a href = https://www.programiz.com/python-programming/methods/string/format>\n",
    "    https://www.programiz.com/python-programming/methods/string/format\n",
    "</a>\n",
    " \n",
    "<p> <a href =https://www.w3schools.com/python/python_strings.asp>\n",
    "    https://www.w3schools.com/python/python_strings.asp\n",
    "</a>\n",
    "    \n",
    "<p> <a href =https://docs.python.org/3.8/tutorial/datastructures.html>\n",
    "    https://docs.python.org/3.8/tutorial/datastructures.html\n",
    "</a>  \n",
    "    \n",
    "<p> <a href =https://docs.python.org/3.8/library/string.html>\n",
    "    https://docs.python.org/3.8/library/string.html\n",
    "</a>  \n",
    "    \n",
    "<p> <a href =https://realpython.com/python-f-strings/>\n",
    "    https://realpython.com/python-f-strings/\n",
    "</a>  \n",
    "    "
   ]
  },
  {
   "cell_type": "code",
   "execution_count": null,
   "metadata": {},
   "outputs": [],
   "source": []
  }
 ],
 "metadata": {
  "kernelspec": {
   "display_name": "Python 3",
   "language": "python",
   "name": "python3"
  },
  "language_info": {
   "codemirror_mode": {
    "name": "ipython",
    "version": 3
   },
   "file_extension": ".py",
   "mimetype": "text/x-python",
   "name": "python",
   "nbconvert_exporter": "python",
   "pygments_lexer": "ipython3",
   "version": "3.7.4"
  }
 },
 "nbformat": 4,
 "nbformat_minor": 2
}
