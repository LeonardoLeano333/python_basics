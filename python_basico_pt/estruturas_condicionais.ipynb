{
 "cells": [
  {
   "cell_type": "markdown",
   "metadata": {},
   "source": [
    "# Estruturas Condicionais"
   ]
  },
  {
   "cell_type": "markdown",
   "metadata": {},
   "source": [
    "## Operadores Condicionais"
   ]
  },
  {
   "cell_type": "markdown",
   "metadata": {},
   "source": [
    "Esse tópico foi abordado no arquivo de operadores.ipynb, se não estiver lembrado leia a outra nota de aula nota de aula. "
   ]
  },
  {
   "cell_type": "markdown",
   "metadata": {},
   "source": [
    "Resumo:"
   ]
  },
  {
   "cell_type": "markdown",
   "metadata": {},
   "source": [
    "<table class=\"table table-bordered\">\n",
    "<tbody><tr>\n",
    "<th style=\"text-align:center;width:10%\">Operador</th>\n",
    "<th style=\"text-align:center;width:45%\">Descrição</th>\n",
    "<th style=\"text-align:center;\">Exemplo</th>\n",
    "</tr>\n",
    "<tr>\n",
    "<td class=\"ts\">==</td>\n",
    "<td>equivalente a </td>\n",
    "<td class=\"ts\">(a == b) is not true.</td>\n",
    "</tr>\n",
    "<tr>\n",
    "<td class=\"ts\">!=</td>\n",
    "<td>diferente de </td>\n",
    "<td class=\"ts\">(a != b) is true.</td>\n",
    "</tr>\n",
    "<td class=\"ts\">&gt;</td>\n",
    "<td>maior</td>\n",
    "<td class=\"ts\">(a &gt; b) is not true.</td>\n",
    "</tr>\n",
    "<tr>\n",
    "<td class=\"ts\">&lt;</td>\n",
    "<td>menor</td>\n",
    "<td class=\"ts\">(a &lt; b) is true.</td>\n",
    "</tr>\n",
    "<tr>\n",
    "<td class=\"ts\">&gt;=</td>\n",
    "<td>maior igual</td>\n",
    "<td class=\"ts\">(a &gt;= b) is not true.</td>\n",
    "</tr>\n",
    "<tr>\n",
    "<td class=\"ts\">&lt;=</td>\n",
    "<td>menor igual</td>\n",
    "<td class=\"ts\">(a &lt;= b) is true.</td>\n",
    "</tr>\n",
    "</tbody></table>"
   ]
  },
  {
   "cell_type": "markdown",
   "metadata": {},
   "source": [
    "### Exemplos:"
   ]
  },
  {
   "cell_type": "markdown",
   "metadata": {},
   "source": [
    "#### Equivalência =="
   ]
  },
  {
   "cell_type": "code",
   "execution_count": 1,
   "metadata": {},
   "outputs": [
    {
     "name": "stdout",
     "output_type": "stream",
     "text": [
      "True\n"
     ]
    }
   ],
   "source": [
    "print(1==1)"
   ]
  },
  {
   "cell_type": "code",
   "execution_count": 3,
   "metadata": {
    "scrolled": true
   },
   "outputs": [
    {
     "name": "stdout",
     "output_type": "stream",
     "text": [
      "False\n"
     ]
    }
   ],
   "source": [
    "print(1==2)"
   ]
  },
  {
   "cell_type": "markdown",
   "metadata": {},
   "source": [
    "#### Diferença !="
   ]
  },
  {
   "cell_type": "code",
   "execution_count": 4,
   "metadata": {},
   "outputs": [
    {
     "name": "stdout",
     "output_type": "stream",
     "text": [
      "False\n"
     ]
    }
   ],
   "source": [
    "print(1!=1)"
   ]
  },
  {
   "cell_type": "code",
   "execution_count": 5,
   "metadata": {
    "scrolled": true
   },
   "outputs": [
    {
     "name": "stdout",
     "output_type": "stream",
     "text": [
      "True\n"
     ]
    }
   ],
   "source": [
    "print(1!=2)"
   ]
  },
  {
   "cell_type": "markdown",
   "metadata": {},
   "source": [
    "#### Maior >"
   ]
  },
  {
   "cell_type": "code",
   "execution_count": 6,
   "metadata": {},
   "outputs": [
    {
     "name": "stdout",
     "output_type": "stream",
     "text": [
      "False\n"
     ]
    }
   ],
   "source": [
    "print(1>2)"
   ]
  },
  {
   "cell_type": "code",
   "execution_count": 7,
   "metadata": {},
   "outputs": [
    {
     "name": "stdout",
     "output_type": "stream",
     "text": [
      "True\n"
     ]
    }
   ],
   "source": [
    "print(1>-1)"
   ]
  },
  {
   "cell_type": "markdown",
   "metadata": {},
   "source": [
    "#### Menor <"
   ]
  },
  {
   "cell_type": "code",
   "execution_count": 9,
   "metadata": {},
   "outputs": [
    {
     "name": "stdout",
     "output_type": "stream",
     "text": [
      "True\n"
     ]
    }
   ],
   "source": [
    "print(1<2)"
   ]
  },
  {
   "cell_type": "code",
   "execution_count": 10,
   "metadata": {
    "scrolled": true
   },
   "outputs": [
    {
     "name": "stdout",
     "output_type": "stream",
     "text": [
      "False\n"
     ]
    }
   ],
   "source": [
    "print(1<-1)"
   ]
  },
  {
   "cell_type": "markdown",
   "metadata": {},
   "source": [
    "#### Maior Igual >="
   ]
  },
  {
   "cell_type": "code",
   "execution_count": 11,
   "metadata": {},
   "outputs": [
    {
     "name": "stdout",
     "output_type": "stream",
     "text": [
      "True\n"
     ]
    }
   ],
   "source": [
    "print(1>=1)"
   ]
  },
  {
   "cell_type": "code",
   "execution_count": 12,
   "metadata": {},
   "outputs": [
    {
     "name": "stdout",
     "output_type": "stream",
     "text": [
      "False\n"
     ]
    }
   ],
   "source": [
    "print(1>=2)"
   ]
  },
  {
   "cell_type": "code",
   "execution_count": 13,
   "metadata": {},
   "outputs": [
    {
     "name": "stdout",
     "output_type": "stream",
     "text": [
      "True\n"
     ]
    }
   ],
   "source": [
    "print(1>=-1)"
   ]
  },
  {
   "cell_type": "markdown",
   "metadata": {},
   "source": [
    "#### Menor Igual <="
   ]
  },
  {
   "cell_type": "code",
   "execution_count": 15,
   "metadata": {},
   "outputs": [
    {
     "name": "stdout",
     "output_type": "stream",
     "text": [
      "True\n"
     ]
    }
   ],
   "source": [
    "print(1<=1)"
   ]
  },
  {
   "cell_type": "code",
   "execution_count": 16,
   "metadata": {},
   "outputs": [
    {
     "name": "stdout",
     "output_type": "stream",
     "text": [
      "True\n"
     ]
    }
   ],
   "source": [
    "print(1<=2)"
   ]
  },
  {
   "cell_type": "code",
   "execution_count": 17,
   "metadata": {},
   "outputs": [
    {
     "name": "stdout",
     "output_type": "stream",
     "text": [
      "False\n"
     ]
    }
   ],
   "source": [
    "print(1<=-1)"
   ]
  },
  {
   "cell_type": "markdown",
   "metadata": {},
   "source": [
    "## Estruturas Condicionais"
   ]
  },
  {
   "cell_type": "markdown",
   "metadata": {},
   "source": [
    "### Condicionamento \"se\" (if):"
   ]
  },
  {
   "cell_type": "markdown",
   "metadata": {},
   "source": [
    "O comando \"**if**\" verifica a sentenca seguinte imediata e se essa sentenca for verdadeira, e se a sentença for verdadeira ele executa os comandos com uma indentação seguinte.  "
   ]
  },
  {
   "cell_type": "code",
   "execution_count": 18,
   "metadata": {},
   "outputs": [
    {
     "name": "stdout",
     "output_type": "stream",
     "text": [
      "a afirmacao eh verdadeira\n"
     ]
    }
   ],
   "source": [
    "if True: # se isso for verdade execute a linha indentada\n",
    "    print(\"a afirmacao eh verdadeira\")"
   ]
  },
  {
   "cell_type": "code",
   "execution_count": 19,
   "metadata": {},
   "outputs": [],
   "source": [
    "if False: # se isso for verdade execute a linha indentada\n",
    "    print(\"a afirmacao eh verdadeira\")"
   ]
  },
  {
   "cell_type": "markdown",
   "metadata": {},
   "source": [
    "**Cuidado!!!** <p>códigos não indentados serão executados."
   ]
  },
  {
   "cell_type": "code",
   "execution_count": 22,
   "metadata": {},
   "outputs": [
    {
     "name": "stdout",
     "output_type": "stream",
     "text": [
      "Isso vai ser executado independente da condicao\n"
     ]
    }
   ],
   "source": [
    "if False: # se isso for verdade execute a linha indentada\n",
    "    print(\"a afirmacao eh verdadeira\")\n",
    "print(\"Isso vai ser executado independente da condicao\")"
   ]
  },
  {
   "cell_type": "markdown",
   "metadata": {},
   "source": [
    "## Condicionamento \"se não\" (else):"
   ]
  },
  {
   "cell_type": "markdown",
   "metadata": {},
   "source": [
    "O **else** deve ser enunciado depois de uma extrutura condicional pois ele só será executado no caso da condição ou condições anteriores falharem. **else** não recebe nenhuma afirmação, dados que a afirmação é a negação da da condição anterior, ou condições anteriores. "
   ]
  },
  {
   "cell_type": "code",
   "execution_count": 24,
   "metadata": {},
   "outputs": [
    {
     "name": "stdout",
     "output_type": "stream",
     "text": [
      "aprimeira condição não foi satisfeita\n"
     ]
    }
   ],
   "source": [
    "if False: # se isso for verdade execute a linha indentada\n",
    "    print(\"a afirmacao eh verdadeira\")\n",
    "else: # essa condicao soh vai ser executada se a condicao anterior falhar\n",
    "    print(\"aprimeira condição não foi satisfeita\")"
   ]
  },
  {
   "cell_type": "code",
   "execution_count": 25,
   "metadata": {},
   "outputs": [
    {
     "name": "stdout",
     "output_type": "stream",
     "text": [
      "a afirmacao eh verdadeira\n"
     ]
    }
   ],
   "source": [
    "if True: # se isso for verdade execute a linha indentada\n",
    "    print(\"a afirmacao eh verdadeira\")\n",
    "else: # essa condicao soh vai ser executada se a condicao anterior falhar\n",
    "    print(\"aprimeira condição não foi satisfeita\")"
   ]
  },
  {
   "cell_type": "markdown",
   "metadata": {},
   "source": [
    "## Condicionamento \"se não e se\" **elif** (else and if):"
   ]
  },
  {
   "cell_type": "code",
   "execution_count": 28,
   "metadata": {},
   "outputs": [
    {
     "name": "stdout",
     "output_type": "stream",
     "text": [
      "a afirmacao eh verdadeira e anterior eh falsa\n"
     ]
    }
   ],
   "source": [
    "if False: # se isso for verdade execute a linha indentada\n",
    "    print(\"a afirmacao eh verdadeira\")\n",
    "elif True: # essa linha sera executada se a as outras assercoes anteriores sao falsas\n",
    "    print(\"a afirmacao eh verdadeira e anterior eh falsa\")"
   ]
  },
  {
   "cell_type": "code",
   "execution_count": 29,
   "metadata": {},
   "outputs": [
    {
     "name": "stdout",
     "output_type": "stream",
     "text": [
      "a afirmacao eh verdadeira\n"
     ]
    }
   ],
   "source": [
    "if True: # se isso for verdade execute a linha indentada\n",
    "    print(\"a afirmacao eh verdadeira\")\n",
    "elif True: # essa linha sera executada se a as outras assercoes anteriores sao falsas\n",
    "    print(\"a afirmacao eh verdadeira e anterior eh falsa\")\n",
    "    "
   ]
  },
  {
   "cell_type": "markdown",
   "metadata": {},
   "source": [
    "Podemos colocar uma cadeia de condições para termos muito mais condições do que somente duas\n"
   ]
  },
  {
   "cell_type": "code",
   "execution_count": 30,
   "metadata": {},
   "outputs": [
    {
     "name": "stdout",
     "output_type": "stream",
     "text": [
      "a afirmacao eh verdadeira e as anteriores sao falsas\n"
     ]
    }
   ],
   "source": [
    "if False: # se isso for verdade execute a linha indentada\n",
    "    print(\"a afirmacao eh verdadeira\")\n",
    "elif False: # essa linha sera executada se a as outras assercoes anteriores sao falsas\n",
    "    print(\"a afirmacao eh verdadeira e anterior eh falsa\")\n",
    "elif True: # essa linha sera executada se a as outras assercoes anteriores sao falsas\n",
    "    print(\"a afirmacao eh verdadeira e as anteriores sao falsas\")"
   ]
  },
  {
   "cell_type": "markdown",
   "metadata": {},
   "source": [
    "## Condicionamento com todos os comandos anteriores \"se, se não se e se não\" (if elif else):"
   ]
  },
  {
   "cell_type": "code",
   "execution_count": 32,
   "metadata": {},
   "outputs": [
    {
     "name": "stdout",
     "output_type": "stream",
     "text": [
      "a afirmacao eh verdadeira\n"
     ]
    }
   ],
   "source": [
    "if True: # se isso for verdade execute a linha indentada\n",
    "    print(\"a afirmacao eh verdadeira\")\n",
    "elif False: # essa linha sera executada se a as outras assercoes anteriores sao falsas\n",
    "    print(\"a afirmacao eh verdadeira e anterior eh falsa\")\n",
    "else: # essa linha sera executada se a as outras assercoes anteriores sao falsas\n",
    "    print(\"todas as afirmacoes anteriores sao falsas\")"
   ]
  },
  {
   "cell_type": "code",
   "execution_count": 33,
   "metadata": {},
   "outputs": [
    {
     "name": "stdout",
     "output_type": "stream",
     "text": [
      "a afirmacao eh verdadeira e anterior eh falsa\n"
     ]
    }
   ],
   "source": [
    "if False: # se isso for verdade execute a linha indentada\n",
    "    print(\"a afirmacao eh verdadeira\")\n",
    "elif True: # essa linha sera executada se a as outras assercoes anteriores sao falsas\n",
    "    print(\"a afirmacao eh verdadeira e anterior eh falsa\")\n",
    "else: # essa linha sera executada se a as outras assercoes anteriores sao falsas\n",
    "    print(\"todas as afirmacoes anteriores sao falsas\")"
   ]
  },
  {
   "cell_type": "code",
   "execution_count": 34,
   "metadata": {},
   "outputs": [
    {
     "name": "stdout",
     "output_type": "stream",
     "text": [
      "todas as afirmacoes anteriores sao falsas\n"
     ]
    }
   ],
   "source": [
    "if False: # se isso for verdade execute a linha indentada\n",
    "    print(\"a afirmacao eh verdadeira\")\n",
    "elif False: # essa linha sera executada se a as outras assercoes anteriores sao falsas\n",
    "    print(\"a afirmacao eh verdadeira e anterior eh falsa\")\n",
    "else: # essa linha sera executada se a as outras assercoes anteriores sao falsas\n",
    "    print(\"todas as afirmacoes anteriores sao falsas\")"
   ]
  },
  {
   "cell_type": "markdown",
   "metadata": {},
   "source": [
    "## Adicionando as Condições"
   ]
  },
  {
   "cell_type": "markdown",
   "metadata": {},
   "source": [
    "Para colocar os valores de verdadeiros e falsos podemos passar essa informação para uma variável para ser verificada dentro das estruturas condicionais **if** e **elif** "
   ]
  },
  {
   "cell_type": "markdown",
   "metadata": {},
   "source": [
    "### Exemplos:"
   ]
  },
  {
   "cell_type": "code",
   "execution_count": 39,
   "metadata": {},
   "outputs": [
    {
     "name": "stdout",
     "output_type": "stream",
     "text": [
      "1 eh igual a 1\n"
     ]
    }
   ],
   "source": [
    "if 1==1:\n",
    "    print(\"1 eh igual a 1\")\n",
    "elif 1!=2:\n",
    "    print(\"1 nao eh igual a 1 e 1 eh diferente de 2\")"
   ]
  },
  {
   "cell_type": "code",
   "execution_count": 40,
   "metadata": {},
   "outputs": [
    {
     "name": "stdout",
     "output_type": "stream",
     "text": [
      "1 nao eh diferente a 1 e 1 eh diferente de 2\n"
     ]
    }
   ],
   "source": [
    "if 1!=1:\n",
    "    print(\"1 eh igual a 1\")\n",
    "elif 1!=2:\n",
    "    print(\"1 nao eh diferente a 1 e 1 eh diferente de 2\")"
   ]
  },
  {
   "cell_type": "markdown",
   "metadata": {},
   "source": [
    "## Trabalhando com variáveis"
   ]
  },
  {
   "cell_type": "code",
   "execution_count": 42,
   "metadata": {},
   "outputs": [
    {
     "name": "stdout",
     "output_type": "stream",
     "text": [
      "afirmacao eh verdadeira\n"
     ]
    }
   ],
   "source": [
    "afirmacao = True\n",
    "if afirmacao:\n",
    "    print(\"afirmacao eh verdadeira\")\n",
    "else:\n",
    "    print(\"afirmacao eh falsa\")"
   ]
  },
  {
   "cell_type": "code",
   "execution_count": 43,
   "metadata": {},
   "outputs": [
    {
     "name": "stdout",
     "output_type": "stream",
     "text": [
      "afirmacao eh falsa\n"
     ]
    }
   ],
   "source": [
    "afirmacao = False\n",
    "if afirmacao:\n",
    "    print(\"afirmacao eh verdadeira\")\n",
    "else:\n",
    "    print(\"afirmacao eh falsa\")"
   ]
  }
 ],
 "metadata": {
  "kernelspec": {
   "display_name": "Python 3",
   "language": "python",
   "name": "python3"
  },
  "language_info": {
   "codemirror_mode": {
    "name": "ipython",
    "version": 3
   },
   "file_extension": ".py",
   "mimetype": "text/x-python",
   "name": "python",
   "nbconvert_exporter": "python",
   "pygments_lexer": "ipython3",
   "version": "3.7.4"
  }
 },
 "nbformat": 4,
 "nbformat_minor": 2
}
