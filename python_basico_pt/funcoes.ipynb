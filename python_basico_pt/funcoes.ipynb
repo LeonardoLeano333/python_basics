{
 "cells": [
  {
   "cell_type": "markdown",
   "metadata": {},
   "source": [
    "# Funções"
   ]
  },
  {
   "cell_type": "markdown",
   "metadata": {},
   "source": [
    "## Utilizacao de funções"
   ]
  },
  {
   "cell_type": "markdown",
   "metadata": {},
   "source": [
    "Funções servem para economizar códigos e executar uma mesma rotina pré definida quando necessário."
   ]
  },
  {
   "cell_type": "markdown",
   "metadata": {},
   "source": [
    "### Definição de função"
   ]
  },
  {
   "cell_type": "code",
   "execution_count": 1,
   "metadata": {},
   "outputs": [],
   "source": [
    "def isso_eh_uma_funcao():\n",
    "    print(\"A funcao fez o que deveria ser feito\")"
   ]
  },
  {
   "cell_type": "markdown",
   "metadata": {},
   "source": [
    "### Chamando a função"
   ]
  },
  {
   "cell_type": "code",
   "execution_count": 2,
   "metadata": {},
   "outputs": [
    {
     "name": "stdout",
     "output_type": "stream",
     "text": [
      "A funcao fez o que deveria ser feito\n"
     ]
    }
   ],
   "source": [
    "def isso_eh_uma_funcao():\n",
    "    print(\"A funcao fez o que deveria ser feito\")\n",
    "isso_eh_uma_funcao()"
   ]
  },
  {
   "cell_type": "markdown",
   "metadata": {},
   "source": [
    "### Interação externa"
   ]
  },
  {
   "cell_type": "markdown",
   "metadata": {},
   "source": [
    "Até então a função não teve contato com o mudo exterior, ou seja ela só executou e interagiu com os elementos definidos e executados dentro dela para fazer com que a funcao retorne e interaja com o mundo exterior é preciso dizer exatamente o que entra e o que sai de uma determinada função"
   ]
  },
  {
   "cell_type": "markdown",
   "metadata": {},
   "source": [
    "### Retorno de uma função (função com retorno)"
   ]
  },
  {
   "cell_type": "code",
   "execution_count": 3,
   "metadata": {
    "scrolled": true
   },
   "outputs": [
    {
     "name": "stdout",
     "output_type": "stream",
     "text": [
      "nao conte para ninguém só para a variavel\n"
     ]
    }
   ],
   "source": [
    "def mensagem_secreta():\n",
    "    mensagem = \"nao conte para ninguém só para a variavel\"\n",
    "    return mensagem\n",
    "\n",
    "segredo = mensagem_secreta()\n",
    "print(segredo)"
   ]
  },
  {
   "cell_type": "markdown",
   "metadata": {},
   "source": [
    "### Funcao com mais de um retorno"
   ]
  },
  {
   "cell_type": "markdown",
   "metadata": {},
   "source": [
    "para retornar mais de uma variavel é só passar no retorno os valore separados por virgula, isso gera um retorno de tupla(objeto invariavel do python)."
   ]
  },
  {
   "cell_type": "markdown",
   "metadata": {},
   "source": [
    "Exemplo:"
   ]
  },
  {
   "cell_type": "code",
   "execution_count": 4,
   "metadata": {},
   "outputs": [
    {
     "name": "stdout",
     "output_type": "stream",
     "text": [
      "3\n",
      "-1\n"
     ]
    }
   ],
   "source": [
    "def soma_subtracao(a,b):\n",
    "    soma = a+b\n",
    "    subtracao = a-b\n",
    "    return soma, subtracao\n",
    "soma,subtracao = soma_subtracao(1,2)\n",
    "print(soma)\n",
    "print(subtracao)"
   ]
  },
  {
   "cell_type": "markdown",
   "metadata": {},
   "source": [
    "### Argumentos de entrada "
   ]
  },
  {
   "cell_type": "markdown",
   "metadata": {},
   "source": [
    "Os argumentos de entrada das funções são informações do mundo exterior a função e assim a função consegue fazer operações sem a necessidade de definição dos valores internos dentro da função."
   ]
  },
  {
   "cell_type": "code",
   "execution_count": 5,
   "metadata": {},
   "outputs": [
    {
     "name": "stdout",
     "output_type": "stream",
     "text": [
      "3\n"
     ]
    }
   ],
   "source": [
    "def soma(a,b):\n",
    "    saida = a+b\n",
    "    return saida\n",
    "\n",
    "um_mais_dois = soma(1,2)\n",
    "print(um_mais_dois)"
   ]
  },
  {
   "cell_type": "markdown",
   "metadata": {},
   "source": [
    "### possíveis problemas"
   ]
  },
  {
   "cell_type": "markdown",
   "metadata": {},
   "source": [
    "executar a função sem parametros a serem passados, ou falta de parametros"
   ]
  },
  {
   "cell_type": "code",
   "execution_count": 6,
   "metadata": {},
   "outputs": [
    {
     "ename": "TypeError",
     "evalue": "soma() missing 2 required positional arguments: 'a' and 'b'",
     "output_type": "error",
     "traceback": [
      "\u001b[1;31m---------------------------------------------------\u001b[0m",
      "\u001b[1;31mTypeError\u001b[0m         Traceback (most recent call last)",
      "\u001b[1;32m<ipython-input-6-2fc69d9f5721>\u001b[0m in \u001b[0;36m<module>\u001b[1;34m\u001b[0m\n\u001b[0;32m      3\u001b[0m     \u001b[1;32mreturn\u001b[0m \u001b[0msaida\u001b[0m\u001b[1;33m\u001b[0m\u001b[1;33m\u001b[0m\u001b[0m\n\u001b[0;32m      4\u001b[0m \u001b[1;33m\u001b[0m\u001b[0m\n\u001b[1;32m----> 5\u001b[1;33m \u001b[0mum_mais_dois\u001b[0m \u001b[1;33m=\u001b[0m \u001b[0msoma\u001b[0m\u001b[1;33m(\u001b[0m\u001b[1;33m)\u001b[0m\u001b[1;33m\u001b[0m\u001b[1;33m\u001b[0m\u001b[0m\n\u001b[0m\u001b[0;32m      6\u001b[0m \u001b[0mprint\u001b[0m\u001b[1;33m(\u001b[0m\u001b[0mum_mais_dois\u001b[0m\u001b[1;33m)\u001b[0m\u001b[1;33m\u001b[0m\u001b[1;33m\u001b[0m\u001b[0m\n",
      "\u001b[1;31mTypeError\u001b[0m: soma() missing 2 required positional arguments: 'a' and 'b'"
     ]
    }
   ],
   "source": [
    "def soma(a,b):\n",
    "    saida = a+b\n",
    "    return saida\n",
    "\n",
    "um_mais_dois = soma()\n",
    "print(um_mais_dois)"
   ]
  },
  {
   "cell_type": "markdown",
   "metadata": {},
   "source": [
    "<strong> Interpretação do erro:</strong>\n",
    "<br>\n",
    "<br> TypeError: soma() missing 2 required positional arguments: 'a' and 'b'\n",
    "<br>\n",
    "<br> Esse erro diz que são requeridos do 2 argumentos possicionais, 'a' e 'b', mas nenhum parâmetro foi passado para a função. "
   ]
  }
 ],
 "metadata": {
  "kernelspec": {
   "display_name": "Python 3",
   "language": "python",
   "name": "python3"
  },
  "language_info": {
   "codemirror_mode": {
    "name": "ipython",
    "version": 3
   },
   "file_extension": ".py",
   "mimetype": "text/x-python",
   "name": "python",
   "nbconvert_exporter": "python",
   "pygments_lexer": "ipython3",
   "version": "3.7.4"
  }
 },
 "nbformat": 4,
 "nbformat_minor": 2
}
