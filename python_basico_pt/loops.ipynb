{
 "cells": [
  {
   "cell_type": "markdown",
   "metadata": {},
   "source": [
    "# Loops (Estrutura de Repetição)"
   ]
  },
  {
   "cell_type": "markdown",
   "metadata": {},
   "source": [
    "Loops são uma parte importante da estrutura de programação "
   ]
  },
  {
   "cell_type": "markdown",
   "metadata": {},
   "source": [
    "## Loop infinito"
   ]
  },
  {
   "cell_type": "markdown",
   "metadata": {},
   "source": [
    "Se eu rodar esse código a seguir esse vai ser impresso loop infinito indefinidamente"
   ]
  },
  {
   "cell_type": "markdown",
   "metadata": {
    "scrolled": true
   },
   "source": [
    "---\n",
    "```\n",
    "# Nao rode isso\n",
    "while True:\n",
    "    print(\"loop infinito\")\n",
    "```\n",
    "---"
   ]
  },
  {
   "cell_type": "markdown",
   "metadata": {},
   "source": [
    "# Loop definido com a condição"
   ]
  },
  {
   "cell_type": "markdown",
   "metadata": {},
   "source": [
    "<p>A estrutura de um loop definido com while é basicamente a comando while \"condicao de continuidade\" dois pontos e e indentação. A condição de continuidade que vem associada ao while deve permanecer como <strong>True</strong> en quanto quer se executar o próximo bloco indentado, quando a condição tornar-se <strong>False</strong> o loop, ou repetição vai parar e dar seguimentos nos comandos seguintes. \n",
    "<p> No exemplo temos um contador<strong>count</strong> inicial que inicia-se com o valor de 0 e a cada vez que ele imprime uma mensagem com o print o contador vai acrecendo em uma unidade, sendo que o loop vai até o momento em que o contador for menor do que 10, ao final da execução o contador estará com o valor de 10."
   ]
  },
  {
   "cell_type": "code",
   "execution_count": 1,
   "metadata": {
    "scrolled": false
   },
   "outputs": [
    {
     "ename": "NameError",
     "evalue": "name 'count' is not defined",
     "output_type": "error",
     "traceback": [
      "\u001b[1;31m---------------------------------------------------\u001b[0m",
      "\u001b[1;31mNameError\u001b[0m         Traceback (most recent call last)",
      "\u001b[1;32m<ipython-input-1-f4480f0e8104>\u001b[0m in \u001b[0;36m<module>\u001b[1;34m\u001b[0m\n\u001b[0;32m      1\u001b[0m \u001b[0mcountador\u001b[0m \u001b[1;33m=\u001b[0m \u001b[1;36m0\u001b[0m \u001b[1;31m# valor inicial\u001b[0m\u001b[1;33m\u001b[0m\u001b[1;33m\u001b[0m\u001b[0m\n\u001b[0;32m      2\u001b[0m \u001b[1;32mwhile\u001b[0m \u001b[0mcountador\u001b[0m\u001b[1;33m<\u001b[0m\u001b[1;36m10\u001b[0m\u001b[1;33m:\u001b[0m \u001b[1;31m# condicao de parada\u001b[0m\u001b[1;33m\u001b[0m\u001b[1;33m\u001b[0m\u001b[0m\n\u001b[1;32m----> 3\u001b[1;33m     \u001b[0mprint\u001b[0m\u001b[1;33m(\u001b[0m\u001b[1;34m\"%d - vou imprimir 10 vezes isso\"\u001b[0m \u001b[1;33m%\u001b[0m \u001b[0mcount\u001b[0m\u001b[1;33m)\u001b[0m\u001b[1;33m\u001b[0m\u001b[1;33m\u001b[0m\u001b[0m\n\u001b[0m\u001b[0;32m      4\u001b[0m     \u001b[0mcountador\u001b[0m \u001b[1;33m+=\u001b[0m \u001b[1;36m1\u001b[0m \u001b[1;31m# passo de atualizacao\u001b[0m\u001b[1;33m\u001b[0m\u001b[1;33m\u001b[0m\u001b[0m\n",
      "\u001b[1;31mNameError\u001b[0m: name 'count' is not defined"
     ]
    }
   ],
   "source": [
    "countador = 0 # valor inicial\n",
    "while countador<10: # condicao de parada\n",
    "    print(\"%d - vou imprimir 10 vezes isso\" % count)\n",
    "    countador += 1 # passo de atualizacao"
   ]
  },
  {
   "cell_type": "markdown",
   "metadata": {},
   "source": [
    "# Loop com break condicional"
   ]
  },
  {
   "cell_type": "markdown",
   "metadata": {},
   "source": [
    "Esse proximo bloco, só parará quando a condição count>=10 for estabelecida, ou seja retornar um valor <strong>True</strong>.\n",
    "<strong>count</strong> ao final da execução terá o valor de 10."
   ]
  },
  {
   "cell_type": "code",
   "execution_count": 2,
   "metadata": {},
   "outputs": [
    {
     "name": "stdout",
     "output_type": "stream",
     "text": [
      "0 - vou imprimir 10 vezes isso\n",
      "1 - vou imprimir 10 vezes isso\n",
      "2 - vou imprimir 10 vezes isso\n",
      "3 - vou imprimir 10 vezes isso\n",
      "4 - vou imprimir 10 vezes isso\n",
      "5 - vou imprimir 10 vezes isso\n",
      "6 - vou imprimir 10 vezes isso\n",
      "7 - vou imprimir 10 vezes isso\n",
      "8 - vou imprimir 10 vezes isso\n",
      "9 - vou imprimir 10 vezes isso\n"
     ]
    }
   ],
   "source": [
    "count=0\n",
    "while True:\n",
    "    print(\"%d - vou imprimir 10 vezes isso\" % count)\n",
    "    count += 1\n",
    "    if count>=10:\n",
    "        break"
   ]
  },
  {
   "cell_type": "markdown",
   "metadata": {},
   "source": [
    "# For loops e range"
   ]
  },
  {
   "cell_type": "markdown",
   "metadata": {},
   "source": [
    "Esse código imprime equivalentemente ao while anterior"
   ]
  },
  {
   "cell_type": "code",
   "execution_count": 3,
   "metadata": {
    "scrolled": true
   },
   "outputs": [
    {
     "name": "stdout",
     "output_type": "stream",
     "text": [
      "0 - vou imprimir 10 vezes isso\n",
      "1 - vou imprimir 10 vezes isso\n",
      "2 - vou imprimir 10 vezes isso\n",
      "3 - vou imprimir 10 vezes isso\n",
      "4 - vou imprimir 10 vezes isso\n",
      "5 - vou imprimir 10 vezes isso\n",
      "6 - vou imprimir 10 vezes isso\n",
      "7 - vou imprimir 10 vezes isso\n",
      "8 - vou imprimir 10 vezes isso\n",
      "9 - vou imprimir 10 vezes isso\n"
     ]
    }
   ],
   "source": [
    "for i in range(10):\n",
    "    print(\"%d - vou imprimir 10 vezes isso\" % i)"
   ]
  },
  {
   "cell_type": "markdown",
   "metadata": {},
   "source": [
    "Para setar o valor do contador adicionamos um paramentro inteiro a função range."
   ]
  },
  {
   "cell_type": "markdown",
   "metadata": {},
   "source": [
    "### For loop com range iniciando com valor diferente de 0"
   ]
  },
  {
   "cell_type": "code",
   "execution_count": 4,
   "metadata": {
    "scrolled": false
   },
   "outputs": [
    {
     "name": "stdout",
     "output_type": "stream",
     "text": [
      "5 - vou imprimir 10 vezes isso\n",
      "6 - vou imprimir 10 vezes isso\n",
      "7 - vou imprimir 10 vezes isso\n",
      "8 - vou imprimir 10 vezes isso\n",
      "9 - vou imprimir 10 vezes isso\n"
     ]
    }
   ],
   "source": [
    "for i in range(5,10):\n",
    "    print(\"%d - vou imprimir 10 vezes isso\" % i)"
   ]
  },
  {
   "cell_type": "markdown",
   "metadata": {},
   "source": [
    "### Extrutura geral do loop com for"
   ]
  },
  {
   "cell_type": "markdown",
   "metadata": {},
   "source": []
  },
  {
   "cell_type": "code",
   "execution_count": 5,
   "metadata": {
    "scrolled": false
   },
   "outputs": [
    {
     "name": "stdout",
     "output_type": "stream",
     "text": [
      "1\n",
      "3\n",
      "5\n",
      "7\n",
      "9\n"
     ]
    }
   ],
   "source": [
    "# imprimindo valores impares de 1 a 10\n",
    "inicio = 1 # valor inicial\n",
    "fim = 10 # final -1\n",
    "passo = 2 # passo de atualizacao\n",
    "for i in range(inicio,fim,passo):\n",
    "    print(i) # inprime a variavel com os valores que são passados do range "
   ]
  },
  {
   "cell_type": "code",
   "execution_count": 6,
   "metadata": {},
   "outputs": [
    {
     "name": "stdout",
     "output_type": "stream",
     "text": [
      "0\n",
      "2\n",
      "4\n",
      "6\n",
      "8\n"
     ]
    }
   ],
   "source": [
    "# imprimindo pares de 0 a 10 -1\n",
    "inicio = 0 # valor inicial\n",
    "fim = 10 # final -1\n",
    "passo = 2 # passo de atualizacao\n",
    "for i in range(inicio,fim,passo):\n",
    "    print(i) # inprime a variavel com os valores que são passados do range "
   ]
  },
  {
   "cell_type": "markdown",
   "metadata": {},
   "source": [
    "Obs.:  veja que no código dos pares o valor do indice 10 não é apresentado por que o valor do final só passa para a variável <strong>\"i\"</strong>. "
   ]
  },
  {
   "cell_type": "markdown",
   "metadata": {},
   "source": [
    "# Nota sobre iteradores"
   ]
  },
  {
   "cell_type": "markdown",
   "metadata": {},
   "source": [
    "<strong>Do <a href =https://pt.wikipedia.org/wiki/Iterador > Wickpedia </a> : </strong>\n",
    "<p> Em programação de computadores, um iterador se refere tanto ao objeto que permite ao programador percorrer um container, (uma coleção de elementos) particularmente listas,[1][2][3] quanto ao padrão de projetos Iterator, no qual um iterador é usado para percorrer um container e acessar seus elementos."
   ]
  },
  {
   "cell_type": "code",
   "execution_count": 7,
   "metadata": {},
   "outputs": [
    {
     "name": "stdout",
     "output_type": "stream",
     "text": [
      "range(0, 10)\n",
      "[0, 1, 2, 3, 4, 5, 6, 7, 8, 9, 10]\n"
     ]
    }
   ],
   "source": [
    "iterador = range(10)\n",
    "lista_de_valores = [0,1,2,3,4,5,6,7,8,9,10]\n",
    "print(iterador)\n",
    "print(lista_de_valores)"
   ]
  },
  {
   "cell_type": "code",
   "execution_count": null,
   "metadata": {},
   "outputs": [],
   "source": []
  }
 ],
 "metadata": {
  "kernelspec": {
   "display_name": "Python 3",
   "language": "python",
   "name": "python3"
  },
  "language_info": {
   "codemirror_mode": {
    "name": "ipython",
    "version": 3
   },
   "file_extension": ".py",
   "mimetype": "text/x-python",
   "name": "python",
   "nbconvert_exporter": "python",
   "pygments_lexer": "ipython3",
   "version": "3.7.4"
  }
 },
 "nbformat": 4,
 "nbformat_minor": 2
}
